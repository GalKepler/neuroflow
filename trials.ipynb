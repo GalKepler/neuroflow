{
 "cells": [
  {
   "cell_type": "code",
   "execution_count": 1,
   "metadata": {},
   "outputs": [
    {
     "name": "stderr",
     "output_type": "stream",
     "text": [
      "TqdmWarning: IProgress not found. Please update jupyter and ipywidgets. See https://ipywidgets.readthedocs.io/en/stable/user_install.html\n"
     ]
    }
   ],
   "source": [
    "from pathlib import Path\n",
    "from neuroflow.atlases.atlases import Atlases\n",
    "from neuroflow.covariates.participant_demographics.participant_demographics import ParticipantDemographics\n",
    "from neuroflow.covariates.covariates_collector import CovariatesCollector\n",
    "from neuroflow.covariates.quality_control.quality_control import QualityControl\n",
    "from neuroflow.covariates.session_covariates.session_covariates import SessionCovariates\n",
    "from neuroflow.files_mapper.files_mapper import FilesMapper\n",
    "from neuroflow.parcellation.parcellation import Parcellation\n",
    "from neuroflow.recon_tensors.dipy.dipy_tensors import DipyTensors\n",
    "from neuroflow.recon_tensors.mrtrix3.mrtrix3_tensors import MRTrix3Tensors\n",
    "\n",
    "source_path = Path(\"/media/storage/mrtrix/BJJL20/202312170935\")\n",
    "# destination = Path(\"/media/storage/neuroflow/BJJL20/202312170935\")\n",
    "destination = Path(\"/media/storage/neuroflow\")\n",
    "\n",
    "google_credentials = Path(\"/home/galkepler/Downloads/neuroflow-420008-94f1f3b9ef7f.json\")\n",
    "\n",
    "files_mapper = FilesMapper(source_path)\n",
    "\n",
    "# demographics = ParticipantDemographics(files_mapper,google_credentials_path=google_credentials)\n",
    "\n",
    "# session = SessionCovariates(files_mapper)\n",
    "\n",
    "# qc = QualityControl(files_mapper, destination / \"quality_control\")"
   ]
  },
  {
   "cell_type": "code",
   "execution_count": 2,
   "metadata": {},
   "outputs": [],
   "source": [
    "# qc = CovariatesCollector(mapper=files_mapper, google_credentials_path=google_credentials,output_directory=destination)\n",
    "tensors = DipyTensors(mapper=files_mapper, output_directory=destination)\n",
    "atlases = Atlases(mapper=files_mapper, output_directory=destination)\n",
    "parcellation = Parcellation(tensors_manager=tensors, atlases_manager=atlases, output_directory=destination)"
   ]
  },
  {
   "cell_type": "code",
   "execution_count": 3,
   "metadata": {},
   "outputs": [],
   "source": [
    "# res = qc._collect_qc_measures()\n",
    "# qc.output_directory\n",
    "# res = atlases.dwi_atlases\n",
    "res = parcellation.run()"
   ]
  },
  {
   "cell_type": "code",
   "execution_count": null,
   "metadata": {},
   "outputs": [],
   "source": []
  }
 ],
 "metadata": {
  "kernelspec": {
   "display_name": "venv",
   "language": "python",
   "name": "python3"
  },
  "language_info": {
   "codemirror_mode": {
    "name": "ipython",
    "version": 3
   },
   "file_extension": ".py",
   "mimetype": "text/x-python",
   "name": "python",
   "nbconvert_exporter": "python",
   "pygments_lexer": "ipython3",
   "version": "3.11.8"
  }
 },
 "nbformat": 4,
 "nbformat_minor": 2
}
